{
 "cells": [
  {
   "cell_type": "code",
   "execution_count": 2,
   "metadata": {},
   "outputs": [],
   "source": [
    "import numpy as np\n",
    "import pandas as pd\n",
    "import pickle"
   ]
  },
  {
   "cell_type": "code",
   "execution_count": 3,
   "metadata": {},
   "outputs": [
    {
     "data": {
      "text/plain": [
       "{'scores': [8, 10, 10, 10, 9, 10, 6, 10, 6, 10],\n",
       " 'steps': [15, 3, 3, 5, 3, 7, 15, 5, 15, 7],\n",
       " 'times': [22.892512730189733,\n",
       "  20.52066469192505,\n",
       "  18.004516124725342,\n",
       "  18.387985467910767,\n",
       "  25.198648691177368,\n",
       "  23.340771675109863,\n",
       "  23.12967954363142,\n",
       "  20.539886593818665,\n",
       "  26.59965910230364,\n",
       "  21.37010931968689],\n",
       " 'success': [False, True, True, True, True, True, False, True, False, True]}"
      ]
     },
     "execution_count": 3,
     "metadata": {},
     "output_type": "execute_result"
    }
   ],
   "source": [
    "with open('./target.pkl', 'rb') as f:\n",
    "    target = pickle.load(f)\n",
    "    \n",
    "target"
   ]
  },
  {
   "cell_type": "code",
   "execution_count": 4,
   "metadata": {},
   "outputs": [],
   "source": [
    "success_score = []\n",
    "success_step = []\n",
    "success_time = []\n",
    "for i in range(len(target['success'])):\n",
    "    if target['success'][i] is True:\n",
    "        success_score.append(target['scores'][i])\n",
    "        success_step.append(target['steps'][i])\n",
    "        success_time.append(target['times'][i])"
   ]
  },
  {
   "cell_type": "code",
   "execution_count": 5,
   "metadata": {},
   "outputs": [
    {
     "data": {
      "text/plain": [
       "(9.857142857142858, 4.714285714285714, 21.05179750919342, 0.7)"
      ]
     },
     "execution_count": 5,
     "metadata": {},
     "output_type": "execute_result"
    }
   ],
   "source": [
    "np.mean(success_score), np.mean(success_step), np.mean(success_time), np.mean(target['success'])"
   ]
  },
  {
   "cell_type": "code",
   "execution_count": 20,
   "metadata": {},
   "outputs": [
    {
     "data": {
      "text/plain": [
       "({'NORMAL': [9],\n",
       "  'UPDATE_PERFORMANCE': [8],\n",
       "  'PRODUCT_DETAIL': [8],\n",
       "  'SUMMARIZE_PRODUCT': [9],\n",
       "  'COMPARE_PRODUCT': [9],\n",
       "  'RECOMMEND_PRODUCT': [9],\n",
       "  'IMPLICIT_PREFERENCE': [10],\n",
       "  'PREFERENCE_CHANGE': [6],\n",
       "  'PRODUCT_TYPE_CHANGE': [10],\n",
       "  'NO_INFO_PRODUCT': [9],\n",
       "  'DISTRACT_CHAT': [7],\n",
       "  'REWIND_BACK': [8]},\n",
       " {'NORMAL': [16.933625638484955],\n",
       "  'UPDATE_PERFORMANCE': [19.51022300720215],\n",
       "  'PRODUCT_DETAIL': [16.077741050720213],\n",
       "  'SUMMARIZE_PRODUCT': [19.454476356506348],\n",
       "  'COMPARE_PRODUCT': [19.67091860771179],\n",
       "  'RECOMMEND_PRODUCT': [18.559515857696532],\n",
       "  'IMPLICIT_PREFERENCE': [17.726373076438904],\n",
       "  'PREFERENCE_CHANGE': [20.134278456370037],\n",
       "  'PRODUCT_TYPE_CHANGE': [25.72995767593384],\n",
       "  'NO_INFO_PRODUCT': [4.820384788513183],\n",
       "  'DISTRACT_CHAT': [15.749881982803345],\n",
       "  'REWIND_BACK': [8.285951733589172]})"
      ]
     },
     "execution_count": 20,
     "metadata": {},
     "output_type": "execute_result"
    }
   ],
   "source": [
    "with open('./function_scores.pkl', 'rb') as f:\n",
    "    function_scores = pickle.load(f)\n",
    "with open('./function_times.pkl', 'rb') as f:\n",
    "    function_times = pickle.load(f)\n",
    "    \n",
    "function_scores, function_times"
   ]
  },
  {
   "cell_type": "code",
   "execution_count": 21,
   "metadata": {},
   "outputs": [],
   "source": [
    "Common_Cases = ['NORMAL', 'UPDATE_PERFORMANCE', 'PRODUCT_DETAIL', 'SUMMARIZE_PRODUCT', 'COMPARE_PRODUCT', 'RECOMMEND_PRODUCT']\n",
    "Strong_Cases = ['IMPLICIT_PREFERENCE', 'PREFERENCE_CHANGE', 'PRODUCT_TYPE_CHANGE']\n",
    "Robust_Cases = ['NO_INFO_PRODUCT', 'DISTRACT_CHAT', 'REWIND_BACK']\n",
    "Cases = [(\"Common_Cases\", Common_Cases), (\"Strong_Cases\", Strong_Cases), (\"Robust_Cases\", Robust_Cases)]"
   ]
  },
  {
   "cell_type": "code",
   "execution_count": 24,
   "metadata": {},
   "outputs": [],
   "source": [
    "result = {}\n",
    "overall_scores = []\n",
    "overall_times = []\n",
    "for n,c in Cases:\n",
    "    scores = []\n",
    "    times = []\n",
    "    for cc in c:\n",
    "        scores += function_scores[cc]\n",
    "        times += function_times[cc]\n",
    "    overall_scores += scores\n",
    "    overall_times += times\n",
    "    result[n] = {\"scores\": np.mean(scores), \"times\": np.mean(times)}\n",
    "    \n",
    "result[\"Overall\"] = {\"scores\": np.mean(overall_scores), \"times\": np.mean(overall_times)}"
   ]
  },
  {
   "cell_type": "code",
   "execution_count": 25,
   "metadata": {},
   "outputs": [
    {
     "data": {
      "text/plain": [
       "{'Common_Cases': {'scores': 8.666666666666666, 'times': 18.367750086387},\n",
       " 'Strong_Cases': {'scores': 8.666666666666666, 'times': 21.196869736247596},\n",
       " 'Robust_Cases': {'scores': 8.0, 'times': 9.618739501635234},\n",
       " 'Overall': {'scores': 8.5, 'times': 16.887777352664205}}"
      ]
     },
     "execution_count": 25,
     "metadata": {},
     "output_type": "execute_result"
    }
   ],
   "source": [
    "result"
   ]
  },
  {
   "cell_type": "code",
   "execution_count": null,
   "metadata": {},
   "outputs": [],
   "source": []
  }
 ],
 "metadata": {
  "kernelspec": {
   "display_name": "openai",
   "language": "python",
   "name": "python3"
  },
  "language_info": {
   "codemirror_mode": {
    "name": "ipython",
    "version": 3
   },
   "file_extension": ".py",
   "mimetype": "text/x-python",
   "name": "python",
   "nbconvert_exporter": "python",
   "pygments_lexer": "ipython3",
   "version": "3.10.9"
  }
 },
 "nbformat": 4,
 "nbformat_minor": 2
}
